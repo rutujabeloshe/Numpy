{
 "cells": [
  {
   "cell_type": "markdown",
   "metadata": {},
   "source": [
    "\n",
    "## <font color='red'> FUNCTIONS, FILTERS AND LAMBDA EXPRESSIONS  </font> "
   ]
  },
  {
   "cell_type": "markdown",
   "metadata": {},
   "source": [
    "# <font color='blue'> 1. WRITE A FUNCTION THAT TAKES A VARIABLE AND SQUARE IT, THEN TEST THE FUNCTION BY TAKING AN INPUT FROM A USER"
   ]
  },
  {
   "cell_type": "code",
   "execution_count": 1,
   "metadata": {},
   "outputs": [],
   "source": [
    "def square_number(x):\n",
    "    \"\"\"\n",
    "    This function takes a variable x and returns its square.\n",
    "    \"\"\"\n",
    "    return x * x"
   ]
  },
  {
   "cell_type": "code",
   "execution_count": null,
   "metadata": {},
   "outputs": [],
   "source": [
    "try:\n",
    "    user_input = float(input(\"Enter a number to be squared: \"))\n",
    "    squared_value = square_number(user_input)\n",
    "    print(f\"The square of {user_input} is {squared_value}.\")\n",
    "except ValueError:\n",
    "    print(\"Invalid input. Please enter a numeric value.\")"
   ]
  },
  {
   "cell_type": "markdown",
   "metadata": {},
   "source": [
    "# <font color='blue'> 2. WRITE A FUNCTION THAT TAKES 2 VARIABLE AND OBTAIN THE SUMMATION AND MULTIPLICATION, THEN TEST THE FUNCTION BY TAKING AN INPUT FROM A USER (REPEAT USING LAMBDA EXPRESSIONS)"
   ]
  },
  {
   "cell_type": "markdown",
   "metadata": {},
   "source": [
    "# LAMBDA"
   ]
  },
  {
   "cell_type": "code",
   "execution_count": null,
   "metadata": {},
   "outputs": [],
   "source": [
    "def summation_and_multiplication(x, y):\n",
    "    \"\"\"\n",
    "    This function takes two variables x and y, and returns their summation and multiplication.\n",
    "    \"\"\"\n",
    "    summation = x + y\n",
    "    multiplication = x * y\n",
    "    return summation, multiplication\n",
    "\n",
    "# Test the function by taking input from the user\n",
    "try:\n",
    "    num1 = float(input(\"Enter the first number: \"))\n",
    "    num2 = float(input(\"Enter the second number: \"))\n",
    "    sum_result, mul_result = summation_and_multiplication(num1, num2)\n",
    "    print(f\"The summation of {num1} and {num2} is {sum_result}.\")\n",
    "    print(f\"The multiplication of {num1} and {num2} is {mul_result}.\")\n",
    "except ValueError:\n",
    "    print(\"Invalid input. Please enter numeric values.\")\n"
   ]
  },
  {
   "cell_type": "code",
   "execution_count": null,
   "metadata": {},
   "outputs": [],
   "source": [
    "# Define the lambda expressions for summation and multiplication\n",
    "summation = lambda x, y: x + y\n",
    "multiplication = lambda x, y: x * y\n",
    "\n",
    "# Test the lambda functions by taking input from the user\n",
    "try:\n",
    "    num1 = float(input(\"Enter the first number: \"))\n",
    "    num2 = float(input(\"Enter the second number: \"))\n",
    "    sum_result = summation(num1, num2)\n",
    "    mul_result = multiplication(num1, num2)\n",
    "    print(f\"The summation of {num1} and {num2} is {sum_result}.\")\n",
    "    print(f\"The multiplication of {num1} and {num2} is {mul_result}.\")\n",
    "except ValueError:\n",
    "    print(\"Invalid input. Please enter numeric values.\")\n"
   ]
  },
  {
   "cell_type": "markdown",
   "metadata": {},
   "source": [
    "#  <font color='blue'>3. WRITE A FUNCTION THAT TAKES A VARIABLE AND RETURNS ITS FACTORIAL </font> "
   ]
  },
  {
   "cell_type": "code",
   "execution_count": null,
   "metadata": {},
   "outputs": [],
   "source": [
    "def factorial(n):\n",
    "    \"\"\"\n",
    "    This function takes an integer n and returns its factorial.\n",
    "    The factorial of a non-negative integer n is the product of all positive integers less than or equal to n.\n",
    "    \"\"\"\n",
    "    if n < 0:\n",
    "        raise ValueError(\"Factorial is not defined for negative numbers\")\n",
    "    elif n == 0 or n == 1:\n",
    "        return 1\n",
    "    else:\n",
    "        result = 1\n",
    "        for i in range(2, n + 1):\n",
    "            result *= i\n",
    "        return result"
   ]
  },
  {
   "cell_type": "code",
   "execution_count": null,
   "metadata": {},
   "outputs": [],
   "source": [
    "try:\n",
    "    num = int(input(\"Enter a non-negative integer to find its factorial: \"))\n",
    "    factorial_result = factorial(num)\n",
    "    print(f\"The factorial of {num} is {factorial_result}.\")\n",
    "except ValueError as e:\n",
    "    print(f\"Invalid input: {e}\")"
   ]
  },
  {
   "cell_type": "markdown",
   "metadata": {},
   "source": [
    "# <font color='blue'> 4. DEVELOP A SCRIPT WHOSE ITEMS ARE SQUARES OF THE ORIGINAL LIST </font> "
   ]
  },
  {
   "cell_type": "code",
   "execution_count": null,
   "metadata": {},
   "outputs": [],
   "source": [
    "def square_list(original_list):\n",
    "    \"\"\"\n",
    "    This function takes a list of numbers and returns a new list with the squares of the original numbers.\n",
    "    \"\"\"\n",
    "    squared_list = [x ** 2 for x in original_list]\n",
    "    return squared_list\n",
    "\n",
    "# Test the function\n",
    "try:\n",
    "    # Input: original list of numbers\n",
    "    original_list = [float(x) for x in input(\"Enter numbers separated by spaces: \").split()]\n",
    "    \n",
    "    # Get the squared list\n",
    "    squared_list = square_list(original_list)"
   ]
  },
  {
   "cell_type": "code",
   "execution_count": null,
   "metadata": {},
   "outputs": [],
   "source": [
    "  # Print the original and squared lists\n",
    "    print(f\"Original list: {original_list}\")\n",
    "    print(f\"Squared list: {squared_list}\")\n",
    "except ValueError:\n",
    "    print(\"Invalid input. Please enter numeric values separated by spaces.\")"
   ]
  },
  {
   "cell_type": "markdown",
   "metadata": {},
   "source": [
    "# 5. WRITE A FUNCTION THAT SQUARES A VARIABLE AND THEN TEST THE FUNCTION USING A LIST OF INTEGER NUMBERS RANGING FROM -20 to 20"
   ]
  },
  {
   "cell_type": "code",
   "execution_count": null,
   "metadata": {},
   "outputs": [],
   "source": [
    "def square_number(x):\n",
    "    \"\"\"\n",
    "    This function takes a variable x and returns its square.\n",
    "    \"\"\"\n",
    "    return x * x\n",
    "\n",
    "# Test the function with a list of integers ranging from -20 to 20\n",
    "test_list = list(range(-20, 21))\n",
    "squared_list = [square_number(x) for x in test_list]\n",
    "\n",
    "# Print the results\n",
    "print(\"Original list:\", test_list)\n",
    "print(\"Squared list:\", squared_list)\n"
   ]
  },
  {
   "cell_type": "code",
   "execution_count": null,
   "metadata": {},
   "outputs": [],
   "source": []
  },
  {
   "cell_type": "markdown",
   "metadata": {},
   "source": [
    "# <font color='blue'> 6. WRITE 3 FUNCTIONS THAT TAKE THE RADIUS OF A CIRCLE AND RETURN THE DIAMETER, AREA AND CIRCUMFERENCE, TEST THE FUNCTION USING AN INPUT FROM A USER "
   ]
  },
  {
   "cell_type": "code",
   "execution_count": null,
   "metadata": {},
   "outputs": [],
   "source": [
    "import math\n",
    "\n",
    "def get_diameter(radius):\n",
    "    \"\"\"\n",
    "    This function takes the radius of a circle and returns the diameter.\n",
    "    \"\"\"\n",
    "    return 2 * radius\n",
    "\n",
    "def get_area(radius):\n",
    "    \"\"\"\n",
    "    This function takes the radius of a circle and returns the area.\n",
    "    \"\"\"\n",
    "    return math.pi * radius * radius\n",
    "\n",
    "def get_circumference(radius):\n",
    "    \"\"\"\n",
    "    This function takes the radius of a circle and returns the circumference.\n",
    "    \"\"\"\n",
    "    return 2 * math.pi * radius\n",
    "\n",
    "# Test the functions with user input\n",
    "try:\n",
    "    radius = float(input(\"Enter the radius of the circle: \"))\n",
    "    \n",
    "    # Calculate diameter, area, and circumference\n",
    "    diameter = get_diameter(radius)\n",
    "    area = get_area(radius)\n",
    "    circumference = get_circumference(radius)\n",
    "    \n",
    "    # Print the results\n",
    "    print(f\"Diameter: {diameter}\")\n",
    "    print(f\"Area: {area}\")\n",
    "    print(f\"Circumference: {circumference}\")\n",
    "except ValueError:\n",
    "    print(\"Invalid input. Please enter a numeric value for the radius.\")\n"
   ]
  },
  {
   "cell_type": "code",
   "execution_count": null,
   "metadata": {},
   "outputs": [],
   "source": []
  },
  {
   "cell_type": "markdown",
   "metadata": {},
   "source": [
    "# <font color='blue'> 7. WRITE A CODE THAT TAKES A RANGE FROM A USER (UPPER AND LOWER BOUND) AND RETURNS A LIST OF POSITIVE AND EVEN NUMBERS ONLY"
   ]
  },
  {
   "cell_type": "code",
   "execution_count": null,
   "metadata": {},
   "outputs": [],
   "source": [
    "def get_positive_even_numbers(lower_bound, upper_bound):\n",
    "    \"\"\"\n",
    "    This function takes a lower and an upper bound and returns a list of positive even numbers within that range.\n",
    "    \"\"\"\n",
    "    positive_even_numbers = [num for num in range(lower_bound, upper_bound + 1) if num > 0 and num % 2 == 0]\n",
    "    return positive_even_numbers\n",
    "\n",
    "# Test the function with user input\n",
    "try:\n",
    "    lower_bound = int(input(\"Enter the lower bound of the range: \"))\n",
    "    upper_bound = int(input(\"Enter the upper bound of the range: \"))\n",
    "    \n",
    "    if lower_bound > upper_bound:\n",
    "        print(\"The lower bound should be less than or equal to the upper bound.\")\n",
    "    else:\n",
    "        result = get_positive_even_numbers(lower_bound, upper_bound)\n",
    "        print(f\"Positive even numbers between {lower_bound} and {upper_bound}: {result}\")\n",
    "except ValueError:\n",
    "    print(\"Invalid input. Please enter valid integers for the bounds.\")\n"
   ]
  },
  {
   "cell_type": "code",
   "execution_count": null,
   "metadata": {},
   "outputs": [],
   "source": []
  },
  {
   "cell_type": "markdown",
   "metadata": {},
   "source": [
    "# <font color='blue'> 8. USING FILTER AND LAMBDA EXPRESSION, WRITE A CODE THAT TAKES A LIST OF NUMBERS BELOW AND RETURNS EVEN NUMBERS ONLY"
   ]
  },
  {
   "cell_type": "code",
   "execution_count": null,
   "metadata": {},
   "outputs": [],
   "source": [
    "# Sample list of numbers\n",
    "numbers = [1, 2, 3, 4, 5, 6, 7, 8, 9, 10, 11, 12, 13, 14, 15, 16, 17, 18, 19, 20]\n",
    "\n",
    "# Using filter and lambda to get even numbers\n",
    "even_numbers = list(filter(lambda x: x % 2 == 0, numbers))\n",
    "\n",
    "# Print the result\n",
    "print(\"Even numbers:\", even_numbers)\n"
   ]
  },
  {
   "cell_type": "code",
   "execution_count": null,
   "metadata": {},
   "outputs": [],
   "source": []
  },
  {
   "cell_type": "markdown",
   "metadata": {},
   "source": [
    "# <font color='blue'> 9. WRITE A FUNCTION THAT TAKES TWO NUMPY MATRICES AND RETURN THE ADDITION, SUBTRACTION, TRANSPOSE, PRODUCT, DOT PRODUCT"
   ]
  },
  {
   "cell_type": "code",
   "execution_count": null,
   "metadata": {},
   "outputs": [],
   "source": [
    "import numpy as np\n",
    "\n",
    "def matrix_operations(matrix1, matrix2):\n",
    "    \"\"\"\n",
    "    This function takes two NumPy matrices and returns their addition,\n",
    "    subtraction, transpose, product, and dot product.\n",
    "    \"\"\"\n",
    "    # Ensure the matrices are NumPy arrays\n",
    "    matrix1 = np.array(matrix1)\n",
    "    matrix2 = np.array(matrix2)\n",
    "    \n",
    "    # Perform operations\n",
    "    addition = matrix1 + matrix2\n",
    "    subtraction = matrix1 - matrix2\n",
    "    transpose1 = matrix1.T\n",
    "    transpose2 = matrix2.T\n",
    "    product = matrix1 * matrix2\n",
    "    dot_product = np.dot(matrix1, matrix2)\n",
    "    \n",
    "    return addition, subtraction, transpose1, transpose2, product, dot_product\n",
    "\n",
    "# Test the function with example matrices\n",
    "matrix1 = np.array([[1, 2], [3, 4]])\n",
    "matrix2 = np.array([[5, 6], [7, 8]])\n",
    "\n",
    "addition, subtraction, transpose1, transpose2, product, dot_product = matrix_operations(matrix1, matrix2)\n",
    "\n",
    "print(\"Matrix 1:\\n\", matrix1)\n",
    "print(\"Matrix 2:\\n\", matrix2)\n",
    "print(\"Addition:\\n\", addition)\n",
    "print(\"Subtraction:\\n\", subtraction)\n",
    "print(\"Transpose of Matrix 1:\\n\", transpose1)\n",
    "print(\"Transpose of Matrix 2:\\n\", transpose2)\n",
    "print(\"Element-wise Product:\\n\", product)\n",
    "print(\"Dot Product:\\n\", dot_product)\n"
   ]
  },
  {
   "cell_type": "code",
   "execution_count": null,
   "metadata": {},
   "outputs": [],
   "source": []
  },
  {
   "cell_type": "markdown",
   "metadata": {},
   "source": [
    "# <font color='blue'> 10. WRITE A FUNCTION THAT TAKES TWO VALUES FROM A USER AND SUM THEM UP. IF NO VALUES ARE PROVIDED, ASSUME DEFAULT VALUES OF 3 AND 5"
   ]
  },
  {
   "cell_type": "code",
   "execution_count": null,
   "metadata": {},
   "outputs": [],
   "source": [
    "def sum_values(value1=3, value2=5):\n",
    "    \"\"\"\n",
    "    This function takes two values from the user (or defaults to 3 and 5 if no values provided)\n",
    "    and returns their sum.\n",
    "    \"\"\"\n",
    "    return value1 + value2\n",
    "\n",
    "# Test the function with user input\n",
    "try:\n",
    "    value1 = float(input(\"Enter the first value (or press Enter for default 3): \").strip() or 3)\n",
    "    value2 = float(input(\"Enter the second value (or press Enter for default 5): \").strip() or 5)\n",
    "    \n",
    "    result = sum_values(value1, value2)\n",
    "    print(f\"The sum of {value1} and {value2} is {result}.\")\n",
    "except ValueError:\n",
    "    print(\"Invalid input. Please enter numeric values.\")\n"
   ]
  },
  {
   "cell_type": "code",
   "execution_count": null,
   "metadata": {},
   "outputs": [],
   "source": []
  },
  {
   "cell_type": "markdown",
   "metadata": {},
   "source": [
    "# <font color='blue'> 11. WRITE A SCRIPT THAT WILL PROMPT A USER FOR A RANGE (MIN/MAX VALUE) AND RETURNS NUMBERS THAT ARE DIVISIBLE BY 4 BUT ARE NOT MULTIPLES OF 3 "
   ]
  },
  {
   "cell_type": "code",
   "execution_count": null,
   "metadata": {},
   "outputs": [],
   "source": [
    "def filter_numbers(min_value, max_value):\n",
    "    \"\"\"\n",
    "    This function takes a minimum and maximum value and returns numbers within that range\n",
    "    that are divisible by 4 but are not multiples of 3.\n",
    "    \"\"\"\n",
    "    filtered_numbers = [num for num in range(min_value, max_value + 1) if num % 4 == 0 and num % 3 != 0]\n",
    "    return filtered_numbers\n",
    "\n",
    "# Prompt the user for input\n",
    "try:\n",
    "    min_value = int(input(\"Enter the minimum value of the range: \"))\n",
    "    max_value = int(input(\"Enter the maximum value of the range: \"))\n",
    "    \n",
    "    # Validate input range\n",
    "    if min_value > max_value:\n",
    "        print(\"Minimum value should be less than or equal to maximum value.\")\n",
    "    else:\n",
    "        # Call function to filter numbers\n",
    "        result = filter_numbers(min_value, max_value)\n",
    "        print(f\"Numbers divisible by 4 but not multiples of 3 in range {min_value} to {max_value}:\")\n",
    "        print(result)\n",
    "except ValueError:\n",
    "    print(\"Invalid input. Please enter valid integers.\")\n"
   ]
  },
  {
   "cell_type": "code",
   "execution_count": null,
   "metadata": {},
   "outputs": [],
   "source": []
  },
  {
   "cell_type": "markdown",
   "metadata": {},
   "source": [
    "# <font color='blue'> 12. DEFINE AN ENGLISH TO FRENCH TRANSLATOR FUNCTION THAT TAKES AN INPUT FROM A USER AND RETURNS THE TRANSLATION, USE ANY 5 KNOWN WORDS"
   ]
  },
  {
   "cell_type": "code",
   "execution_count": null,
   "metadata": {},
   "outputs": [],
   "source": [
    "def english_to_french_translator(word):\n",
    "    \"\"\"\n",
    "    This function translates English words to French using a dictionary.\n",
    "    \"\"\"\n",
    "    # Dictionary mapping English words to French translations\n",
    "    translations = {\n",
    "        'hello': 'bonjour',\n",
    "        'goodbye': 'au revoir',\n",
    "        'cat': 'chat',\n",
    "        'dog': 'chien',\n",
    "        'house': 'maison'\n",
    "    }\n",
    "    \n",
    "    # Check if the word exists in the dictionary\n",
    "    if word.lower() in translations:\n",
    "        return translations[word.lower()]\n",
    "    else:\n",
    "        return f\"Translation not found for '{word}'\"\n",
    "\n",
    "# Test the function with user input\n",
    "try:\n",
    "    user_input = input(\"Enter an English word to translate to French (e.g., hello, goodbye, cat, dog, house): \").strip()\n",
    "    translation = english_to_french_translator(user_input)\n",
    "    print(f\"The translation of '{user_input}' in French is: {translation}\")\n",
    "except KeyError:\n",
    "    print(\"Translation not found for the given word.\")\n"
   ]
  },
  {
   "cell_type": "code",
   "execution_count": null,
   "metadata": {},
   "outputs": [],
   "source": []
  },
  {
   "cell_type": "code",
   "execution_count": null,
   "metadata": {},
   "outputs": [],
   "source": []
  }
 ],
 "metadata": {
  "kernelspec": {
   "display_name": "Python 3 (ipykernel)",
   "language": "python",
   "name": "python3"
  },
  "language_info": {
   "codemirror_mode": {
    "name": "ipython",
    "version": 3
   },
   "file_extension": ".py",
   "mimetype": "text/x-python",
   "name": "python",
   "nbconvert_exporter": "python",
   "pygments_lexer": "ipython3",
   "version": "3.11.5"
  }
 },
 "nbformat": 4,
 "nbformat_minor": 2
}
